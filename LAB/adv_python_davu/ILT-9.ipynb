{
 "cells": [
  {
   "cell_type": "code",
   "execution_count": 6,
   "metadata": {},
   "outputs": [
    {
     "name": "stdout",
     "output_type": "stream",
     "text": [
      "                          Sale_amt\n",
      "Region  Manager SalesMan          \n",
      "Central Michael Emma         18300\n",
      "East    David   Sarah        10600\n",
      "North   John    Alex          6300\n",
      "                Chris         7350\n",
      "South   Emily   Jessica       4450\n",
      "                Michael       3950\n",
      "West    Lisa    James         5400\n"
     ]
    }
   ],
   "source": [
    "# Lab1: Write a Pandas program to create a Pivot table and find the total sale amount region wise, manager wise, sales man wise.\n",
    "# Input:Download the file  salesdata.csv From LMS\n",
    "import pandas as pd\n",
    "df=pd.read_csv(\"salesdata.csv\")\n",
    "#Pivot table\n",
    "pivot_table=pd.pivot_table(df,index=[\"Region\",\"Manager\",\"SalesMan\"],values=\"Sale_amt\",aggfunc=\"sum\")\n",
    "print(pivot_table)"
   ]
  },
  {
   "cell_type": "code",
   "execution_count": 12,
   "metadata": {},
   "outputs": [
    {
     "name": "stdout",
     "output_type": "stream",
     "text": [
      "            Sale_amt\n",
      "Item                \n",
      "Camera             6\n",
      "Headphones         3\n",
      "Laptop             5\n",
      "Monitor            1\n",
      "Smartphone         6\n",
      "Speakers           3\n",
      "Tablet             6\n"
     ]
    }
   ],
   "source": [
    "# Lab2: Write a Pandas program to create a Pivot table and find the item wise unit sold.\n",
    "# Input:Download the file\n",
    "# salesdata.csv From LMS\n",
    "import pandas as pd\n",
    "df=pd.read_csv(\"salesdata.csv\")\n",
    "# Pivot table\n",
    "pivot_table = df.pivot_table(index=[\"Item\"], values=\"Sale_amt\", aggfunc=\"count\")\n",
    "print(pivot_table)"
   ]
  },
  {
   "cell_type": "code",
   "execution_count": 16,
   "metadata": {},
   "outputs": [
    {
     "name": "stdout",
     "output_type": "stream",
     "text": [
      "                    Sale_amt\n",
      "Region  Item                \n",
      "Central Camera             6\n",
      "East    Tablet             6\n",
      "North   Laptop             5\n",
      "        Monitor            1\n",
      "South   Smartphone         6\n",
      "West    Headphones         3\n",
      "        Speakers           3\n"
     ]
    }
   ],
   "source": [
    "# Lab3: Write a Pandas program to create a Pivot table and find the region wise, item wise unit sold.\n",
    "# Input:Download the file\n",
    "# salesdata.csv From LMS\n",
    "import pandas as pd\n",
    "df=pd.read_csv(\"salesdata.csv\")\n",
    "# Pivot table\n",
    "pivot_table = df.pivot_table(index=['Region','Item'], values='Sale_amt', aggfunc='count')\n",
    "print(pivot_table)"
   ]
  },
  {
   "cell_type": "code",
   "execution_count": 20,
   "metadata": {},
   "outputs": [
    {
     "name": "stdout",
     "output_type": "stream",
     "text": [
      "                mean    count\n",
      "            Sale_amt Sale_amt\n",
      "Manager                      \n",
      "David    1766.666667        6\n",
      "Emily    1400.000000        6\n",
      "John     2275.000000        6\n",
      "Lisa      900.000000        6\n",
      "Michael  3050.000000        6\n"
     ]
    }
   ],
   "source": [
    "# Lab4: Write a Pandas program to create a Pivot table and count the manager wise sale and mean value of sale amount.\n",
    "# Input:Download the file \n",
    "# salesdata.csv From LMS\n",
    "import pandas as pd\n",
    "df=pd.read_csv(\"salesdata.csv\")\n",
    "# Pivot table\n",
    "pivot_table = df.pivot_table(index='Manager', values='Sale_amt', aggfunc=['mean', 'count'])\n",
    "print(pivot_table)"
   ]
  },
  {
   "cell_type": "code",
   "execution_count": null,
   "metadata": {},
   "outputs": [],
   "source": [
    "# ChatGPT Exercise\n",
    "# Scenario:Analyzing Sales Data with a Pivot Table\n",
    "# Suppose you work for a retail company, and you have a dataset containing sales data. The data includes information about sales transactions, products, and salespeople. You want to create a pivot table to summarize sales by product and salesperson like Calculate the total sales for each product,Calculate the total sales for each salesperson,Identify the top-selling product and salesperson.\n",
    "# Create a ChatGPT prompt to generate the code for this scenario. Based on the code generated, ask ChatGPT to give the conclusion/inference. \n",
    "# Note. You can provide the data to ChatGPT in the form of a list or dictionary or ask it to use sample data.\n",
    "\n",
    "import pandas as pd\n",
    "\n",
    "# Sample dataset\n",
    "sales_data = [\n",
    "    {'product': 'Laptop', 'salesperson': 'Alice', 'amount': 1200},\n",
    "    {'product': 'Laptop', 'salesperson': 'Bob', 'amount': 1300},\n",
    "    {'product': 'Tablet', 'salesperson': 'Alice', 'amount': 600},\n",
    "    {'product': 'Tablet', 'salesperson': 'Bob', 'amount': 700},\n",
    "    {'product': 'Smartphone', 'salesperson': 'Alice', 'amount': 800},\n",
    "    {'product': 'Smartphone', 'salesperson': 'Bob', 'amount': 900},\n",
    "    {'product': 'Laptop', 'salesperson': 'Charlie', 'amount': 1400},\n",
    "    {'product': 'Tablet', 'salesperson': 'Charlie', 'amount': 500},\n",
    "    {'product': 'Smartphone', 'salesperson': 'Charlie', 'amount': 700},\n",
    "]\n",
    "\n",
    "# Create DataFrame\n",
    "df = pd.DataFrame(sales_data)\n",
    "\n",
    "# Create pivot table\n",
    "pivot_table = pd.pivot_table(df, values='amount', index='product', columns='salesperson', aggfunc='sum', margins=True, margins_name='Total', fill_value=0)\n",
    "\n",
    "# Total sales for each product\n",
    "total_sales_by_product = df.groupby('product')['amount'].sum()\n",
    "\n",
    "# Total sales for each salesperson\n",
    "total_sales_by_salesperson = df.groupby('salesperson')['amount'].sum()\n",
    "\n",
    "# Identify top-selling product\n",
    "top_selling_product = total_sales_by_product.idxmax()\n",
    "top_selling_product_amount = total_sales_by_product.max()\n",
    "\n",
    "# Identify top-selling salesperson\n",
    "top_selling_salesperson = total_sales_by_salesperson.idxmax()\n",
    "top_selling_salesperson_amount = total_sales_by_salesperson.max()\n",
    "\n",
    "# Display results\n",
    "print(\"Pivot Table:\")\n",
    "print(pivot_table)\n",
    "print(\"\\nTotal Sales by Product:\")\n",
    "print(total_sales_by_product)\n",
    "print(\"\\nTotal Sales by Salesperson:\")\n",
    "print(total_sales_by_salesperson)\n",
    "print(f\"\\nTop-Selling Product: {top_selling_product} with sales of {top_selling_product_amount}\")\n",
    "print(f\"Top-Selling Salesperson: {top_selling_salesperson} with sales of {top_selling_salesperson_amount}\")\n",
    "\n",
    "# Conclusion/Inference:\n",
    "1. Pivot Table: The pivot table provides a clear breakdown of the total sales for each product by each salesperson, along with the overall total sales for each category.\n",
    "2. Total Sales by Product: Laptops are the highest-selling product with total sales of 3900. Smartphones have total sales of 2400. Tablets have total sales of 1800.\n",
    "3. Total Sales by Salesperson: Bob is the top-selling salesperson with total sales of 2900. Both Alice and Charlie have total sales of 2600 each, indicating strong performance but slightly behind Bob.\n",
    "4. Top-Selling Product: The Laptop stands out as the most popular product, contributing significantly to the total sales.\n",
    "5. Top-Selling Salesperson: Bob leads in individual sales performance, making him the top contributor among the sales team. These insights can help in understanding product popularity, salesperson performance, and guiding future sales strategies."
   ]
  }
 ],
 "metadata": {
  "kernelspec": {
   "display_name": "venv",
   "language": "python",
   "name": "python3"
  },
  "language_info": {
   "codemirror_mode": {
    "name": "ipython",
    "version": 3
   },
   "file_extension": ".py",
   "mimetype": "text/x-python",
   "name": "python",
   "nbconvert_exporter": "python",
   "pygments_lexer": "ipython3",
   "version": "3.12.4"
  }
 },
 "nbformat": 4,
 "nbformat_minor": 2
}
