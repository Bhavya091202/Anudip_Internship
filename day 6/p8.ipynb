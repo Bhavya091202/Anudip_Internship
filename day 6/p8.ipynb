{
 "cells": [
  {
   "cell_type": "markdown",
   "metadata": {},
   "source": [
    "\n",
    "## `Dictionary`\n",
    "\n",
    "\n",
    "\n",
    " collection of hetrogenous data.\n",
    " \n",
    " element are stored in key value pair.\n",
    "\n",
    " the keys used for indexing.\n",
    "\n",
    " keys of the dictionary must be unique.\n",
    "\n",
    " element will be enclosed in curly braces."
   ]
  },
  {
   "cell_type": "code",
   "execution_count": 1,
   "metadata": {},
   "outputs": [],
   "source": [
    "student = {\n",
    "    'stdid' : 'std101', \n",
    "    'maths' : 78,\n",
    "    'stdname' : 'bhavya garg',\n",
    "    'age' : 12\n",
    "}\n"
   ]
  },
  {
   "cell_type": "markdown",
   "metadata": {},
   "source": [
    "to access element by index in dictionary\n",
    "\n",
    "index = key\n",
    "\n",
    "\n",
    "variable = dictionaryName[key]"
   ]
  },
  {
   "cell_type": "code",
   "execution_count": 2,
   "metadata": {},
   "outputs": [
    {
     "name": "stdout",
     "output_type": "stream",
     "text": [
      "{'stdid': 'std101', 'maths': 78, 'stdname': 'bhavya garg', 'age': 12}\n"
     ]
    }
   ],
   "source": [
    "print(student)"
   ]
  },
  {
   "cell_type": "code",
   "execution_count": 3,
   "metadata": {},
   "outputs": [
    {
     "name": "stdout",
     "output_type": "stream",
     "text": [
      "std101\n",
      "78\n",
      "bhavya garg\n",
      "12\n"
     ]
    }
   ],
   "source": [
    "for key in student:\n",
    "    print(student[key])"
   ]
  },
  {
   "cell_type": "markdown",
   "metadata": {},
   "source": [
    "assign value in dictionary\n",
    "\n",
    "dictionaryName[key] = value\n"
   ]
  },
  {
   "cell_type": "code",
   "execution_count": null,
   "metadata": {},
   "outputs": [],
   "source": []
  }
 ],
 "metadata": {
  "kernelspec": {
   "display_name": "venv",
   "language": "python",
   "name": "python3"
  },
  "language_info": {
   "codemirror_mode": {
    "name": "ipython",
    "version": 3
   },
   "file_extension": ".py",
   "mimetype": "text/x-python",
   "name": "python",
   "nbconvert_exporter": "python",
   "pygments_lexer": "ipython3",
   "version": "3.12.4"
  }
 },
 "nbformat": 4,
 "nbformat_minor": 2
}
