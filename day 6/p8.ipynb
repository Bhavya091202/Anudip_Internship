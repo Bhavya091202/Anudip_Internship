{
 "cells": [
  {
   "cell_type": "markdown",
   "metadata": {},
   "source": [
    "\n",
    "## `Dictionary`\n",
    "\n",
    "\n",
    "\n",
    " collection of hetrogenous data.\n",
    " \n",
    " element are stored in key value pair.\n",
    "\n",
    " the keys used for indexing.\n",
    "\n",
    " keys of the dictionary must be unique.\n",
    "\n",
    " element will be enclosed in curly braces."
   ]
  },
  {
   "cell_type": "code",
   "execution_count": null,
   "metadata": {},
   "outputs": [],
   "source": []
  }
 ],
 "metadata": {
  "language_info": {
   "name": "python"
  }
 },
 "nbformat": 4,
 "nbformat_minor": 2
}
